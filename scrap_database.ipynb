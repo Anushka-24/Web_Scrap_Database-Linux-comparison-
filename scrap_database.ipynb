{
 "cells": [
  {
   "cell_type": "markdown",
   "id": "c7b4b5ed",
   "metadata": {},
   "source": [
    "### Web Scrapping database with mechanicalsoup and SQlite\n",
    "Here, in this project I have scrapped this [page](https://en.wikipedia.org/wiki/Comparison_of_Linux_distributions). There were several tables but I decided to save only the main table to my database."
   ]
  },
  {
   "cell_type": "code",
   "execution_count": 1,
   "id": "7ca4d8b8",
   "metadata": {},
   "outputs": [],
   "source": [
    "# Install the package\n",
    "# pip install MechanicalSoup==1.1.0"
   ]
  },
  {
   "cell_type": "code",
   "execution_count": 2,
   "id": "cc363f86",
   "metadata": {},
   "outputs": [],
   "source": [
    "# Import libraries\n",
    "import mechanicalsoup\n",
    "import pandas as pd\n",
    "import sqlite3"
   ]
  },
  {
   "cell_type": "code",
   "execution_count": 3,
   "id": "fbf200f1",
   "metadata": {},
   "outputs": [
    {
     "data": {
      "text/plain": [
       "<Response [200]>"
      ]
     },
     "execution_count": 3,
     "metadata": {},
     "output_type": "execute_result"
    }
   ],
   "source": [
    "# Create browser object & open URL\n",
    "browser_linux = mechanicalsoup.StatefulBrowser()\n",
    "browser_linux.open(\"https://en.wikipedia.org/wiki/Comparison_of_Linux_distributions\")"
   ]
  },
  {
   "cell_type": "code",
   "execution_count": 4,
   "id": "c58d5da1",
   "metadata": {},
   "outputs": [
    {
     "name": "stdout",
     "output_type": "stream",
     "text": [
      "['AlmaLinux', 'Alpine Linux', 'ALT Linux', 'antiX', 'ArchBang', 'Arch Linux', 'BLAG', 'Bodhi Linux', 'Canaima', 'CentOS', 'Chakra', 'Chrome OS', 'Clear Linux OS', 'ClearOS', 'CrunchBang Linux', 'Damn Small Linux', 'Debian', 'Debian Edu', 'Devuan', 'Deepin', 'Dragora GNU/Linux-Libre', 'dyne:bolic', 'Elementary OS', 'ELinOS', 'Emdebian Grip', 'EndeavourOS', 'Fedora', 'Freespire', 'Gentoo Linux', 'Guix System', 'gNewSense', 'Grml', 'Hyperbola GNU/Linux-libre', 'Kali Linux', 'Knoppix', 'Kodibuntu', 'Korora', 'LibreCMC', 'Linspire', 'Linux Mint', 'Linux Lite', 'Mageia', 'Mandriva Linux', 'Manjaro Linux', 'MEPIS', 'Musix GNU+Linux', 'Netrunner', 'NixOS', 'Novell Open Enterprise Server', 'OpenELEC', 'openSUSE', 'OpenWrt', 'OpenMandriva Lx', 'Oracle Linux', 'Parabola GNU/Linux-libre', 'Pardus', 'Parrot OS', 'Parsix', 'Parted Magic', 'PCLinuxOS', 'Pop! OS', 'Pentoo', 'Porteus', 'Puppy Linux', 'PureOS', 'Qubes OS', 'Red Hat Enterprise Linux (RHEL)', 'Red Hat Linux', 'ROSA', 'Rocks Cluster Distribution', 'Sabayon Linux', 'Salix OS', 'Scientific Linux', 'Slackware', 'Slax', 'SliTaz GNU/Linux', 'Solus', 'SolydXK', 'SparkyLinux', 'Source Mage GNU/Linux', 'SteamOS', 'SUSE Linux Enterprise', 'Tails', 'Tiny Core Linux', 'Trisquel GNU/Linux', 'TurnKey GNU/Linux', 'Ubuntu and Derivatives[74]', 'Univention Corporate Server', 'Ututo', 'VectorLinux', 'Void Linux', 'Webconverger', 'Xandros', 'Zentyal', 'Zenwalk', 'Zorin OS', 'Alpine Linux', 'ALT Linux', 'Arch Linux', 'BLAG', 'Bodhi Linux', 'Canaima', 'CentOS', 'Chakra', 'Clear Linux OS', 'ClearOS', 'CoreOS', 'CrunchBang Linux', 'Damn Small Linux', 'Debian', 'Devuan', 'Dragora GNU/Linux-Libre', 'dyne:bolic', 'Fedora', 'Funtoo', 'Gentoo', 'gNewSense', 'Guix System', 'Hyperbola GNU/Linux-libre', 'Kali Linux', 'Knoppix', 'LibreCMC[100]', 'Linux Mint[101]', 'Mageia', 'Mandriva Linux', 'Manjaro Linux', 'MEPIS', 'Musix GNU+Linux[104]', 'OpenELEC', 'openSUSE', 'OpenWrt', 'Parabola GNU/Linux-libre', 'Pardus', 'Parsix', 'PCLinuxOS', 'Pentoo', 'Porteus', 'Puppy Linux', 'Red Hat Enterprise Linux', 'Rxart Desktop', 'Sabayon Linux', 'Scientific Linux', 'Slackware', 'Slax', 'SliTaz GNU/Linux', 'Solus', 'Source Mage GNU/Linux', 'SteamOS', 'SUSE Linux Enterprise Desktop', 'Trisquel', 'TurnKey GNU/Linux', 'Ubuntu/Edubuntu', 'Ubuntu GNOME', 'Ubuntu MATE', 'Kubuntu', 'Xubuntu', 'Lubuntu', 'Ututo', 'VectorLinux', 'Void Linux', 'Webconverger', 'XBMC Live', 'Zentyal', 'Zenwalk', 'Alpine Linux', 'Arch Linux', 'BackTrack', 'BLAG', 'Bodhi Linux', 'BOSS Linux', 'CentOS', 'Chakra', 'Clear Linux OS', 'CRUX', 'Debian[132]', 'Devuan', 'Dragora GNU/Linux-Libre', 'dyne:bolic', 'Fedora[137]', 'Finnix', 'Gentoo[143]', 'gNewSense', 'Guix System[149]', 'Hyperbola GNU/Linux-libre', 'Kali Linux', 'LibreCMC', 'Manjaro Linux', 'MEPIS', 'Musix GNU+Linux', 'OpenELEC', 'openSUSE Leap', 'openSUSE Tumbleweed', 'OpenWrt[155]', 'Oracle Linux[156]', 'Parabola GNU/Linux-libre', 'Red Flag Linux', 'Red Hat Linux[165]', 'Red Hat Enterprise Linux[167]', 'Sabayon Linux', 'Scientific Linux', 'SHR', 'Slackware', 'Solus', 'Source Mage GNU/Linux', 'SUSE Linux Enterprise Server[175]', 'Trisquel GNU/Linux', 'TurnKey GNU/Linux', 'Ubuntu/Kubuntu/Xubuntu/Lubuntu', 'Ututo', 'Void Linux', 'XBMCbuntu', 'Yellow Dog Linux', 'Alpine Linux', 'ALT Linux', 'Arch Linux', 'BLAG', 'Bodhi Linux', 'CentOS', 'Chakra', 'ClearOS', 'Clear Linux OS', 'CrunchBang Linux', 'Debian', 'Devuan', 'Dragora GNU/Linux-Libre', 'dyne:bolic', 'Fedora', 'Gentoo', 'gNewSense', 'Guix System', 'Hyperbola GNU/Linux-libre', 'Knoppix', 'LibreCMC', 'Linux Mint', 'Mageia', 'Mandriva Linux', 'Manjaro Linux', 'MEPIS', 'Musix GNU+Linux', 'OpenELEC', 'openSUSE', 'OpenWrt', 'Parabola GNU/Linux-libre', 'Pardus', 'Parsix', 'PCLinuxOS', 'Puppy', 'Red Hat Enterprise Linux', 'Rxart', 'Sabayon Linux', 'Scientific', 'Slackware', 'Slax', 'SliTaz GNU/Linux', 'Solus', 'Source Mage GNU/Linux', 'SUSE Linux', 'Trisquel', 'TurnKey GNU/Linux', 'Ubuntu, Kubuntu, Xubuntu', 'Ututo', 'Vector Linux', 'Void Linux', 'XBMC Live', 'Zentyal', 'Zenwalk', 'Arch Linux', 'AUSTRUMI', 'BLAG Linux and GNU', 'Bodhi Linux', 'CentOS', 'Chakra', 'Clear Linux OS', 'Debian', 'Devuan', 'Dragora GNU/Linux-Libre', 'dyne:bolic', 'Fedora', 'Gentoo', 'gNewSense[217]', 'Grml', 'Guix System[218]', 'Hyperbola GNU/Linux-libre', 'Knoppix CD', 'Knoppix DVD', 'LibreCMC', 'Mandriva Linux One', 'Manjaro Linux', 'MEPIS', 'Musix GNU+Linux', 'Nanolinux', 'openGEU', 'openSUSE (Not 42.1)', 'OpenWrt', 'Parabola GNU/Linux-libre', 'Pardus', 'PCLinuxOS', 'Pentoo', 'Porteus', 'Puppy Linux (Slacko)', 'Puredyne', 'Sabayon Linux Live CD', 'Sabayon Linux Live DVD', 'Scientific Linux', 'Slackware', 'Slax', 'Solus', 'SystemRescueCD', 'SliTaz GNU/Linux', 'Tails', 'Tiny Core Linux', 'Tiny SliTaz', 'Trisquel', 'TurnKey GNU/Linux Core (base) appliance ISO', 'Ubuntu', 'Ututo', 'Edubuntu', 'Kubuntu', 'XBMC Live', 'Zentyal', 'Xubuntu', 'Alpine Linux', 'BLAG', 'Android (operating system)', 'Clear Linux OS', 'Debian', 'Dragora GNU/Linux-Libre', 'dyne:bolic', 'Fedora', 'Gentoo', 'gNewSense', 'Guix System', 'LibreCMC', 'Mandriva', 'Musix GNU+Linux', 'Parabola GNU/Linux-libre', 'Slackware', 'SUSE Linux', 'Solus', 'Trisquel', 'Ubuntu', 'Ututo']\n"
     ]
    }
   ],
   "source": [
    "#Extract the table headers\n",
    "table_header=browser_linux.page.find_all('th', attrs={'class': 'table-rh'})\n",
    "\n",
    "# Get all the contents of distribution column\n",
    "distribution=[value.text.replace('\\n', '') for value in table_header] #replace \\n with empty string\n",
    "print(distribution)"
   ]
  },
  {
   "cell_type": "code",
   "execution_count": 5,
   "id": "02833814",
   "metadata": {},
   "outputs": [
    {
     "name": "stdout",
     "output_type": "stream",
     "text": [
      "95\n"
     ]
    }
   ],
   "source": [
    "# This is giving all the contents of Distribution column from all of the tables.\n",
    "# Let's specify the index till which table we want to save it in our database\n",
    "# I want to save the first table and the last content of distribution column of first table is Zorin OS. Let's check its index.\n",
    "print(distribution.index('Zorin OS'))\n"
   ]
  },
  {
   "cell_type": "code",
   "execution_count": 6,
   "id": "e06289c9",
   "metadata": {},
   "outputs": [
    {
     "name": "stdout",
     "output_type": "stream",
     "text": [
      "['AlmaLinux', 'Alpine Linux', 'ALT Linux', 'antiX', 'ArchBang', 'Arch Linux', 'BLAG', 'Bodhi Linux', 'Canaima', 'CentOS', 'Chakra', 'Chrome OS', 'Clear Linux OS', 'ClearOS', 'CrunchBang Linux', 'Damn Small Linux', 'Debian', 'Debian Edu', 'Devuan', 'Deepin', 'Dragora GNU/Linux-Libre', 'dyne:bolic', 'Elementary OS', 'ELinOS', 'Emdebian Grip', 'EndeavourOS', 'Fedora', 'Freespire', 'Gentoo Linux', 'Guix System', 'gNewSense', 'Grml', 'Hyperbola GNU/Linux-libre', 'Kali Linux', 'Knoppix', 'Kodibuntu', 'Korora', 'LibreCMC', 'Linspire', 'Linux Mint', 'Linux Lite', 'Mageia', 'Mandriva Linux', 'Manjaro Linux', 'MEPIS', 'Musix GNU+Linux', 'Netrunner', 'NixOS', 'Novell Open Enterprise Server', 'OpenELEC', 'openSUSE', 'OpenWrt', 'OpenMandriva Lx', 'Oracle Linux', 'Parabola GNU/Linux-libre', 'Pardus', 'Parrot OS', 'Parsix', 'Parted Magic', 'PCLinuxOS', 'Pop! OS', 'Pentoo', 'Porteus', 'Puppy Linux', 'PureOS', 'Qubes OS', 'Red Hat Enterprise Linux (RHEL)', 'Red Hat Linux', 'ROSA', 'Rocks Cluster Distribution', 'Sabayon Linux', 'Salix OS', 'Scientific Linux', 'Slackware', 'Slax', 'SliTaz GNU/Linux', 'Solus', 'SolydXK', 'SparkyLinux', 'Source Mage GNU/Linux', 'SteamOS', 'SUSE Linux Enterprise', 'Tails', 'Tiny Core Linux', 'Trisquel GNU/Linux', 'TurnKey GNU/Linux', 'Ubuntu and Derivatives[74]', 'Univention Corporate Server', 'Ututo', 'VectorLinux', 'Void Linux', 'Webconverger', 'Xandros', 'Zentyal', 'Zenwalk', 'Zorin OS']\n"
     ]
    }
   ],
   "source": [
    "# So index is 95. now lets slice it\n",
    "distribution=distribution[:96]\n",
    "print(distribution)"
   ]
  },
  {
   "cell_type": "code",
   "execution_count": 7,
   "id": "191e05b9",
   "metadata": {},
   "outputs": [
    {
     "name": "stdout",
     "output_type": "stream",
     "text": [
      "6\n",
      "1062\n"
     ]
    }
   ],
   "source": [
    "# Now extract the table data\n",
    "table_data=browser_linux.page.find_all('td')\n",
    "columns=[value.text.replace('\\n', '') for value in table_data]\n",
    "#print(columns)\n",
    "# only take those data which we want to save. let's check we are taking right data or not.\n",
    "print(columns.index('AlmaLinux Foundation'))\n",
    "print(columns.index('Binary blobs'))\n"
   ]
  },
  {
   "cell_type": "code",
   "execution_count": 8,
   "id": "e62f7b7a",
   "metadata": {},
   "outputs": [],
   "source": [
    "# Let's slice the column accordin to those index value which information we need\n",
    "columns=columns[6:1062]\n",
    "#print(columns)"
   ]
  },
  {
   "cell_type": "code",
   "execution_count": 9,
   "id": "d0787012",
   "metadata": {},
   "outputs": [],
   "source": [
    "# Let's save all the columns information. In the main table we have 11 column\n",
    "# organizing columns will be like\n",
    "#columns[0:][::11]\n",
    "#columns[1:][::11]\n",
    "column_names = [\"Founder\", \n",
    "                \"Maintainer\", \n",
    "                \"Initial_Release_Year\", \n",
    "                \"Current_Stable_Version\", \n",
    "                \"Security_Updates\", \n",
    "                \"Release_Date\", \n",
    "                \"System_Distribution_Commitment\", \n",
    "                \"Forked_From\", \n",
    "                \"Target_Audience\", \n",
    "                \"Cost\", \n",
    "                \"Status\"]\n",
    "# make a dictionary\n",
    "dictionary={'Distribution': distribution} #key is dstribution and value it will take from the previous save distribution output\n",
    "for idx, key in enumerate(column_names):\n",
    "    dictionary[key]=columns[idx:][::11]\n",
    "    \n",
    "\n",
    "# Create dataframe\n",
    "linux_df=pd.DataFrame(data=dictionary) \n",
    "\n",
    "#print(df.head())\n",
    "#print(df.tail())"
   ]
  },
  {
   "cell_type": "code",
   "execution_count": 10,
   "id": "9f32c7b1",
   "metadata": {},
   "outputs": [],
   "source": [
    "#Insert data into a database.Let's make a connection to the database\n",
    "connection = sqlite3.connect(\"comparison_of_linux_distribution.db\")\n",
    "\n",
    "# Create an object to execute the connection\n",
    "cursor = connection.cursor()\n",
    "\n",
    "# create database table and insert all data frame rows\n",
    "cursor.execute(\"create table linux (Distribution, \" + \",\".join(column_names)+ \")\")\n",
    "for i in range(len(linux_df)):\n",
    "    cursor.execute(\"insert into linux values (?,?,?,?,?,?,?,?,?,?,?,?)\", linux_df.iloc[i]) # '?' for the elements\n",
    "\n",
    "# Permanently save Data to the Comparison of Linux distribution\n",
    "connection.commit()\n",
    "\n",
    "connection.close()"
   ]
  },
  {
   "cell_type": "code",
   "execution_count": 11,
   "id": "a49f6faa",
   "metadata": {},
   "outputs": [],
   "source": [
    "# We also can save data as csv file\n",
    "linux_df.to_csv('linux_comparison.csv', index=False)"
   ]
  }
 ],
 "metadata": {
  "kernelspec": {
   "display_name": "Python 3 (ipykernel)",
   "language": "python",
   "name": "python3"
  },
  "language_info": {
   "codemirror_mode": {
    "name": "ipython",
    "version": 3
   },
   "file_extension": ".py",
   "mimetype": "text/x-python",
   "name": "python",
   "nbconvert_exporter": "python",
   "pygments_lexer": "ipython3",
   "version": "3.9.7"
  }
 },
 "nbformat": 4,
 "nbformat_minor": 5
}
